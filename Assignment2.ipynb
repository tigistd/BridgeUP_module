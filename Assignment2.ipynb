{
  "nbformat": 4,
  "nbformat_minor": 0,
  "metadata": {
    "colab": {
      "provenance": [],
      "authorship_tag": "ABX9TyOeVK3uZSC2XcTvAqIHBDRO"
    },
    "kernelspec": {
      "name": "python3",
      "display_name": "Python 3"
    },
    "language_info": {
      "name": "python"
    }
  },
  "cells": [
    {
      "cell_type": "code",
      "execution_count": null,
      "metadata": {
        "id": "VE46n51VqY8g",
        "colab": {
          "base_uri": "https://localhost:8080/"
        },
        "outputId": "178bb4e6-88f1-4284-ddcb-7e63eaf30d81"
      },
      "outputs": [
        {
          "output_type": "stream",
          "name": "stdout",
          "text": [
            "Enter the first primary color: black\n",
            "Enter the second primary color: white\n",
            "You didn't input two primary colors.\n"
          ]
        }
      ],
      "source": [
        "\n",
        "primary_colors = [\"red\", \"blue\", \"yellow\"]\n",
        "color1 = input(\"Enter the first primary color: \").lower()\n",
        "color2 = input(\"Enter the second primary color: \").lower()\n",
        "if color1 in primary_colors and color2 in primary_colors:\n",
        "  if color1 ==\"red\"or color2==\"red\" and color1==\"blue\" or color2==\"blue\":\n",
        "    print(f'When you mix {color1} and {color2},  you get purple')\n",
        "  elif color1 ==\"blue\"or color2==\"blue\" and color1==\"yellow\" or color2==\"yellow\":\n",
        "      print(f'When you mix {color1} and {color2},  you get green')\n",
        "  elif color1 ==\"red\"or color2==\"red\" and color1==\"yellow\" or color2==\"yellow\":\n",
        "          print(f'When you mix {color1} and {color2},  you get orange')\n",
        "else:\n",
        "  print(\"You didn't input two primary colors.\")\n",
        "\n",
        "\n",
        "\n"
      ]
    },
    {
      "cell_type": "code",
      "source": [],
      "metadata": {
        "id": "caf2OJmwBojt"
      },
      "execution_count": null,
      "outputs": []
    },
    {
      "cell_type": "code",
      "source": [
        "\n",
        "import math\n",
        "x1 = input(\"what is the circle's x coordinate?\")\n",
        "y1 = input(\"what is the circle's y coordinate?\")\n",
        "r1 = input(\"what is the circle's radius?\")\n",
        "x1=float(x1)\n",
        "y1=float(y1)\n",
        "r1=float(r1)\n",
        "\n",
        "\n",
        "x2 = input(\"what is the 2nd circle's x coordinate?\")\n",
        "y2 = input(\"what is the 2nd circle's y coordinate?\")\n",
        "r2 = input(\"what is the 2nd circle's radius coordinate?\")\n",
        "x2=float(x2)\n",
        "y2=float(y2)\n",
        "r2=float(r2)\n",
        "x2sub1=(x2-x1)**2\n",
        "y2sub1=(y2-y1)**2\n",
        "distance= math.sqrt(x2sub1 + y2sub1)\n",
        "if distance<= abs(r1-r2):\n",
        "  print(\"circle2 is inside circle one\")\n",
        "elif distance<= r1+r2:\n",
        "  print('circle2 overlaps circle1')\n"
      ],
      "metadata": {
        "id": "471nrOHWqZq6",
        "colab": {
          "base_uri": "https://localhost:8080/"
        },
        "outputId": "b6a0a8bc-e597-4f08-f887-d276c5c38a62"
      },
      "execution_count": null,
      "outputs": [
        {
          "output_type": "stream",
          "name": "stdout",
          "text": [
            "what is the circle's x coordinate?0.5\n",
            "what is the circle's y coordinate?5.1\n",
            "what is the circle's radius?13\n",
            "what is the 2nd circle's x coordinate?1\n",
            "what is the 2nd circle's y coordinate?1\n",
            "what is the 2nd circle's radius coordinate?1.7\n",
            "circle2 is inside circle one\n"
          ]
        }
      ]
    },
    {
      "cell_type": "code",
      "source": [
        "import numpy as np\n",
        "num =5.0-4.0\n",
        "np.sqrt(num)\n",
        "pow(num, 2)"
      ],
      "metadata": {
        "colab": {
          "base_uri": "https://localhost:8080/"
        },
        "id": "Jatkm2pL9rtQ",
        "outputId": "49f5aca6-b6a9-4265-aacb-6ef8fea91e23"
      },
      "execution_count": null,
      "outputs": [
        {
          "output_type": "execute_result",
          "data": {
            "text/plain": [
              "1.0"
            ]
          },
          "metadata": {},
          "execution_count": 6
        }
      ]
    }
  ]
}